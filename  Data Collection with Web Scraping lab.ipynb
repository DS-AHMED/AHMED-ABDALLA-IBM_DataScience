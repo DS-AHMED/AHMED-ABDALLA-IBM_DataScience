{
    "cells": [
        {
            "cell_type": "markdown",
            "metadata": {},
            "source": "<center>\n    <img src=\"https://gitlab.com/ibm/skills-network/courses/placeholder101/-/raw/master/labs/module%201/images/IDSNlogo.png\" width=\"300\" alt=\"cognitiveclass.ai logo\"  />\n</center>\n"
        },
        {
            "cell_type": "markdown",
            "metadata": {},
            "source": "# **Space X  Falcon 9 First Stage Landing Prediction**\n"
        },
        {
            "cell_type": "markdown",
            "metadata": {},
            "source": "## Web scraping Falcon 9 and Falcon Heavy Launches Records from Wikipedia\n"
        },
        {
            "cell_type": "markdown",
            "metadata": {},
            "source": "Estimated time needed: **40** minutes\n"
        },
        {
            "cell_type": "markdown",
            "metadata": {},
            "source": "In this lab, you will be performing web scraping to collect Falcon 9 historical launch records from a Wikipedia page titled `List of Falcon 9 and Falcon Heavy launches`\n\n[https://en.wikipedia.org/wiki/List_of_Falcon\\_9\\_and_Falcon_Heavy_launches](https://en.wikipedia.org/wiki/List_of_Falcon\\_9\\_and_Falcon_Heavy_launches?utm_medium=Exinfluencer&utm_source=Exinfluencer&utm_content=000026UJ&utm_term=10006555&utm_id=NA-SkillsNetwork-Channel-SkillsNetworkCoursesIBMDS0321ENSkillsNetwork26802033-2021-01-01)\n"
        },
        {
            "cell_type": "markdown",
            "metadata": {},
            "source": "![](https://cf-courses-data.s3.us.cloud-object-storage.appdomain.cloud/IBM-DS0321EN-SkillsNetwork/labs/module\\_1\\_L2/images/Falcon9\\_rocket_family.svg)\n"
        },
        {
            "cell_type": "markdown",
            "metadata": {},
            "source": "Falcon 9 first stage will land successfully\n"
        },
        {
            "cell_type": "markdown",
            "metadata": {},
            "source": "![](https://cf-courses-data.s3.us.cloud-object-storage.appdomain.cloud/IBMDeveloperSkillsNetwork-DS0701EN-SkillsNetwork/api/Images/landing\\_1.gif)\n"
        },
        {
            "cell_type": "markdown",
            "metadata": {},
            "source": "Several examples of an unsuccessful landing are shown here:\n"
        },
        {
            "cell_type": "markdown",
            "metadata": {},
            "source": "![](https://cf-courses-data.s3.us.cloud-object-storage.appdomain.cloud/IBMDeveloperSkillsNetwork-DS0701EN-SkillsNetwork/api/Images/crash.gif)\n"
        },
        {
            "cell_type": "markdown",
            "metadata": {},
            "source": "More specifically, the launch records are stored in a HTML table shown below:\n"
        },
        {
            "cell_type": "markdown",
            "metadata": {},
            "source": "![](https://cf-courses-data.s3.us.cloud-object-storage.appdomain.cloud/IBM-DS0321EN-SkillsNetwork/labs/module\\_1\\_L2/images/falcon9-launches-wiki.png)\n"
        },
        {
            "cell_type": "markdown",
            "metadata": {},
            "source": "## Objectives\n\nWeb scrap Falcon 9 launch records with `BeautifulSoup`:\n\n*   Extract a Falcon 9 launch records HTML table from Wikipedia\n*   Parse the table and convert it into a Pandas data frame\n"
        },
        {
            "cell_type": "markdown",
            "metadata": {},
            "source": "First let's import required packages for this lab\n"
        },
        {
            "cell_type": "code",
            "execution_count": 2,
            "metadata": {},
            "outputs": [
                {
                    "name": "stdout",
                    "output_type": "stream",
                    "text": "Requirement already satisfied: beautifulsoup4 in /opt/conda/envs/Python-3.8-main/lib/python3.8/site-packages (4.9.3)\nRequirement already satisfied: soupsieve>1.2 in /opt/conda/envs/Python-3.8-main/lib/python3.8/site-packages (from beautifulsoup4) (2.2.1)\nRequirement already satisfied: requests in /opt/conda/envs/Python-3.8-main/lib/python3.8/site-packages (2.25.1)\nRequirement already satisfied: certifi>=2017.4.17 in /opt/conda/envs/Python-3.8-main/lib/python3.8/site-packages (from requests) (2021.5.30)\nRequirement already satisfied: idna<3,>=2.5 in /opt/conda/envs/Python-3.8-main/lib/python3.8/site-packages (from requests) (2.8)\nRequirement already satisfied: chardet<5,>=3.0.2 in /opt/conda/envs/Python-3.8-main/lib/python3.8/site-packages (from requests) (3.0.4)\nRequirement already satisfied: urllib3<1.27,>=1.21.1 in /opt/conda/envs/Python-3.8-main/lib/python3.8/site-packages (from requests) (1.26.6)\n"
                }
            ],
            "source": "!pip3 install beautifulsoup4\n!pip3 install requests"
        },
        {
            "cell_type": "code",
            "execution_count": 3,
            "metadata": {},
            "outputs": [],
            "source": "import sys\n\nimport requests\nfrom bs4 import BeautifulSoup\nimport re\nimport unicodedata\nimport pandas as pd"
        },
        {
            "cell_type": "markdown",
            "metadata": {},
            "source": "and we will provide some helper functions for you to process web scraped HTML table\n"
        },
        {
            "cell_type": "code",
            "execution_count": 4,
            "metadata": {},
            "outputs": [],
            "source": "def date_time(table_cells):\n    \"\"\"\n    This function returns the data and time from the HTML  table cell\n    Input: the  element of a table data cell extracts extra row\n    \"\"\"\n    return [data_time.strip() for data_time in list(table_cells.strings)][0:2]\n\ndef booster_version(table_cells):\n    \"\"\"\n    This function returns the booster version from the HTML  table cell \n    Input: the  element of a table data cell extracts extra row\n    \"\"\"\n    out=''.join([booster_version for i,booster_version in enumerate( table_cells.strings) if i%2==0][0:-1])\n    return out\n\ndef landing_status(table_cells):\n    \"\"\"\n    This function returns the landing status from the HTML table cell \n    Input: the  element of a table data cell extracts extra row\n    \"\"\"\n    out=[i for i in table_cells.strings][0]\n    return out\n\n\ndef get_mass(table_cells):\n    mass=unicodedata.normalize(\"NFKD\", table_cells.text).strip()\n    if mass:\n        mass.find(\"kg\")\n        new_mass=mass[0:mass.find(\"kg\")+2]\n    else:\n        new_mass=0\n    return new_mass\n\n\ndef extract_column_from_header(row):\n    \"\"\"\n    This function returns the landing status from the HTML table cell \n    Input: the  element of a table data cell extracts extra row\n    \"\"\"\n    if (row.br):\n        row.br.extract()\n    if row.a:\n        row.a.extract()\n    if row.sup:\n        row.sup.extract()\n        \n    colunm_name = ' '.join(row.contents)\n    \n    # Filter the digit and empty names\n    if not(colunm_name.strip().isdigit()):\n        colunm_name = colunm_name.strip()\n        return colunm_name    \n"
        },
        {
            "cell_type": "markdown",
            "metadata": {},
            "source": "To keep the lab tasks consistent, you will be asked to scrape the data from a snapshot of the  `List of Falcon 9 and Falcon Heavy launches` Wikipage updated on\n`9th June 2021`\n"
        },
        {
            "cell_type": "code",
            "execution_count": 5,
            "metadata": {},
            "outputs": [],
            "source": "static_url = \"https://en.wikipedia.org/w/index.php?title=List_of_Falcon_9_and_Falcon_Heavy_launches&oldid=1027686922\""
        },
        {
            "cell_type": "markdown",
            "metadata": {},
            "source": "Next, request the HTML page from the above URL and get a `response` object\n"
        },
        {
            "cell_type": "markdown",
            "metadata": {},
            "source": "### TASK 1: Request the Falcon9 Launch Wiki page from its URL\n"
        },
        {
            "cell_type": "markdown",
            "metadata": {},
            "source": "First, let's perform an HTTP GET method to request the Falcon9 Launch HTML page, as an HTTP response.\n"
        },
        {
            "cell_type": "code",
            "execution_count": 7,
            "metadata": {},
            "outputs": [],
            "source": "# use requests.get() method with the provided static_url\n# assign the response to a object\nresponse = requests.get(static_url).text"
        },
        {
            "cell_type": "markdown",
            "metadata": {},
            "source": "Create a `BeautifulSoup` object from the HTML `response`\n"
        },
        {
            "cell_type": "code",
            "execution_count": 8,
            "metadata": {},
            "outputs": [],
            "source": "# Use BeautifulSoup() to create a BeautifulSoup object from a response text content\nsoup = BeautifulSoup(response)"
        },
        {
            "cell_type": "markdown",
            "metadata": {},
            "source": "Print the page title to verify if the `BeautifulSoup` object was created properly\n"
        },
        {
            "cell_type": "code",
            "execution_count": 9,
            "metadata": {},
            "outputs": [
                {
                    "name": "stdout",
                    "output_type": "stream",
                    "text": "page title: <title>List of Falcon 9 and Falcon Heavy launches - Wikipedia</title>\n"
                }
            ],
            "source": "# Use soup.title attribute\n\npage_title=soup.title\nprint(\"page title:\",page_title)"
        },
        {
            "cell_type": "markdown",
            "metadata": {},
            "source": "### TASK 2: Extract all column/variable names from the HTML table header\n"
        },
        {
            "cell_type": "markdown",
            "metadata": {},
            "source": "Next, we want to collect all relevant column names from the HTML table header\n"
        },
        {
            "cell_type": "markdown",
            "metadata": {},
            "source": "Let's try to find all tables on the wiki page first. If you need to refresh your memory about `BeautifulSoup`, please check the external reference link towards the end of this lab\n"
        },
        {
            "cell_type": "code",
            "execution_count": 70,
            "metadata": {},
            "outputs": [],
            "source": "# Use the find_all function in the BeautifulSoup object, with element type `table`\n# Assign the result to a list called `html_tables`\nhtml_tables = soup.find_all('tr')\n"
        },
        {
            "cell_type": "markdown",
            "metadata": {},
            "source": "Starting from the third table is our target table contains the actual launch records.\n"
        },
        {
            "cell_type": "code",
            "execution_count": 71,
            "metadata": {},
            "outputs": [
                {
                    "name": "stdout",
                    "output_type": "stream",
                    "text": "<tr>\n<th scope=\"col\">Flight No.\n</th>\n<th scope=\"col\">Date andtime ()\n</th>\n<th scope=\"col\"> \n</th>\n<th scope=\"col\">Launch site\n</th>\n<th scope=\"col\">Payload\n</th>\n<th scope=\"col\">Payload mass\n</th>\n<th scope=\"col\">Orbit\n</th>\n<th scope=\"col\">Customer\n</th>\n<th scope=\"col\">Launchoutcome\n</th>\n<th scope=\"col\">\n</th></tr>\n"
                }
            ],
            "source": "# Let's print the third table and check its content\nfirst_launch_table = html_tables[2]\nprint(first_launch_table)"
        },
        {
            "cell_type": "markdown",
            "metadata": {},
            "source": "You should able to see the columns names embedded in the table header elements `<th>` as follows:\n"
        },
        {
            "cell_type": "markdown",
            "metadata": {},
            "source": "```\n<tr>\n<th scope=\"col\">Flight No.\n</th>\n<th scope=\"col\">Date and<br/>time (<a href=\"/wiki/Coordinated_Universal_Time\" title=\"Coordinated Universal Time\">UTC</a>)\n</th>\n<th scope=\"col\"><a href=\"/wiki/List_of_Falcon_9_first-stage_boosters\" title=\"List of Falcon 9 first-stage boosters\">Version,<br/>Booster</a> <sup class=\"reference\" id=\"cite_ref-booster_11-0\"><a href=\"#cite_note-booster-11\">[b]</a></sup>\n</th>\n<th scope=\"col\">Launch site\n</th>\n<th scope=\"col\">Payload<sup class=\"reference\" id=\"cite_ref-Dragon_12-0\"><a href=\"#cite_note-Dragon-12\">[c]</a></sup>\n</th>\n<th scope=\"col\">Payload mass\n</th>\n<th scope=\"col\">Orbit\n</th>\n<th scope=\"col\">Customer\n</th>\n<th scope=\"col\">Launch<br/>outcome\n</th>\n<th scope=\"col\"><a href=\"/wiki/Falcon_9_first-stage_landing_tests\" title=\"Falcon 9 first-stage landing tests\">Booster<br/>landing</a>\n</th></tr>\n```\n"
        },
        {
            "cell_type": "markdown",
            "metadata": {},
            "source": "Next, we just need to iterate through the `<th>` elements and apply the provided `extract_column_from_header()` to extract column name one by one\n"
        },
        {
            "cell_type": "code",
            "execution_count": 72,
            "metadata": {},
            "outputs": [],
            "source": "column_names = []\n\n# Apply find_all() function with `th` element on first_launch_table\nth = first_launch_table.find_all('th')\n# Iterate each th element and apply the provided extract_column_from_header() to get a column name\nfor i in th:\n    name = extract_column_from_header(i)\n# Append the Non-empty column name (`if name is not None and len(name) > 0`) into a list called column_names\n    if name is not None and len(name) > 0:\n        column_names.append(name)\n"
        },
        {
            "cell_type": "markdown",
            "metadata": {},
            "source": "Check the extracted column names\n"
        },
        {
            "cell_type": "code",
            "execution_count": 73,
            "metadata": {},
            "outputs": [
                {
                    "name": "stdout",
                    "output_type": "stream",
                    "text": "['Flight No.', 'Date and time ( )', 'Launch site', 'Payload', 'Payload mass', 'Orbit', 'Customer', 'Launch outcome']\n"
                }
            ],
            "source": "print(column_names)"
        },
        {
            "cell_type": "markdown",
            "metadata": {},
            "source": "## TASK 3: Create a data frame by parsing the launch HTML tables\n"
        },
        {
            "cell_type": "markdown",
            "metadata": {},
            "source": "We will create an empty dictionary with keys from the extracted column names in the previous task. Later, this dictionary will be converted into a Pandas dataframe\n"
        },
        {
            "cell_type": "code",
            "execution_count": 74,
            "metadata": {},
            "outputs": [],
            "source": "launch_dict= dict.fromkeys(column_names)\n\n# Remove an irrelvant column\ndel launch_dict['Date and time ( )']\n\n# Let's initial the launch_dict with each value to be an empty list\nlaunch_dict['Flight No.'] = []\nlaunch_dict['Launch site'] = []\nlaunch_dict['Payload'] = []\nlaunch_dict['Payload mass'] = []\nlaunch_dict['Orbit'] = []\nlaunch_dict['Customer'] = []\nlaunch_dict['Launch outcome'] = []\n# Added some new columns\nlaunch_dict['Version Booster']=[]\nlaunch_dict['Booster landing']=[]\nlaunch_dict['Date']=[]\nlaunch_dict['Time']=[]"
        },
        {
            "cell_type": "markdown",
            "metadata": {},
            "source": "Next, we just need to fill up the `launch_dict` with launch records extracted from table rows.\n"
        },
        {
            "cell_type": "markdown",
            "metadata": {},
            "source": "Usually, HTML tables in Wiki pages are likely to contain unexpected annotations and other types of noises, such as reference links `B0004.1[8]`, missing values `N/A [e]`, inconsistent formatting, etc.\n"
        },
        {
            "cell_type": "markdown",
            "metadata": {},
            "source": "To simplify the parsing process, we have provided an incomplete code snippet below to help you to fill up the `launch_dict`. Please complete the following code snippet with TODOs or you can choose to write your own logic to parse all launch tables:\n"
        },
        {
            "cell_type": "code",
            "execution_count": 77,
            "metadata": {},
            "outputs": [
                {
                    "name": "stdout",
                    "output_type": "stream",
                    "text": "F9 v1.0B0003.1\nF9 v1.0B0004.1\nF9 v1.0B0005.1\nF9 v1.0B0006.1\nF9 v1.0B0007.1\nF9 v1.1B1003\nF9 v1.1\nF9 v1.1\nF9 v1.1\nF9 v1.1\nF9 v1.1\nF9 v1.1\nF9 v1.1\nF9 v1.1\nF9 v1.1\nF9 v1.1\nF9 v1.1\nF9 v1.1\nF9 v1.1\nF9 FT\nF9 v1.1\nF9 FT\nF9 FT\nF9 FT\nF9 FT\nF9 FT\nF9 FT\nF9 FT\nF9 FT\nF9 FT\nF9 FT\nF9 FT\u267a\nF9 FT\nF9 FT\nF9 FT\nF9 FTB1029.2\nF9 FT\nF9 FT\nF9 B4\nF9 FT\nF9 B4\nF9 B4\nF9 FTB1031.2\nF9 B4\nF9 FTB1035.2\nF9 FTB1036.2\nF9 B4\nF9 FTB1032.2\nF9 FTB1038.2\nF9 B4\nF9 B4B1041.2\nF9 B4B1039.2\nF9 B4\nF9 B5B1046.1\nF9 B4B1043.2\nF9 B4B1040.2\nF9 B4B1045.2\nF9 B5\nF9 B5B1048\nF9 B5B1046.2\nF9 B5\nF9 B5B1048.2\nF9 B5B1047.2\nF9 B5B1046.3\nF9 B5\nF9 B5\nF9 B5B1049.2\nF9 B5B1048.3\nF9 B5[268]\nF9 B5\nF9 B5B1049.3\nF9 B5B1051.2\nF9 B5B1056.2\nF9 B5B1047.3\nF9 B5\nF9 B5\nF9 B5B1056.3\nF9 B5\nF9 B5\nF9 B5\nF9 B5\nF9 B5\nF9 B5\nF9 B5\nF9 B5\nF9 B5\nF9 B5\nF9 B5\nF9 B5B1058.2\nF9 B5\nF9 B5B1049.6\nF9 B5\nF9 B5B1060.2\nF9 B5B1058.3\nF9 B5B1051.6\nF9 B5\nF9 B5\nF9 B5\nF9 B5\nF9 B5 \u267a\nF9 B5 \u267a\nF9 B5 \u267a\nF9 B5 \u267a\nF9 B5\nF9 B5B1051.8\nF9 B5B1058.5\nF9 B5 \u267a\nF9 B5 \u267a\nF9 B5 \u267a\nF9 B5 \u267a\nF9 B5 \u267a\nF9 B5B1060.6\nF9 B5 \u267a\nF9 B5B1061.2\nF9 B5B1060.7\nF9 B5B1049.9\nF9 B5B1051.10\nF9 B5B1058.8\nF9 B5B1063.2\nF9 B5B1067.1\nF9 B5\n"
                }
            ],
            "source": "extracted_row = 0\n#Extract each table \nfor table_number,table in enumerate(soup.find_all('table',\"wikitable plainrowheaders collapsible\")):\n   # get table row \n    for rows in table.find_all(\"tr\"):\n        #check to see if first table heading is as number corresponding to launch a number \n        if rows.th:\n            if rows.th.string:\n                flight_number=rows.th.string.strip()\n                flag=flight_number.isdigit()\n        else:\n            flag=False\n        #get table element \n        row=rows.find_all('td')\n        #if it is number save cells in a dictonary \n        if flag:\n            extracted_row += 1\n            # Flight Number value\n            # TODO: Append the flight_number into launch_dict with key `Flight No.`\n            #print(flight_number)\n            launch_dict['Flight No.'].append(flight_number)\n            datatimelist=date_time(row[0])\n            \n            # Date value\n            # TODO: Append the date into launch_dict with key `Date`\n            date = datatimelist[0].strip(',')\n            launch_dict['Date'].append(date)\n            #print(date)\n            # Time value\n            # TODO: Append the time into launch_dict with key `Time`\n            time = datatimelist[1]\n            launch_dict['Time'].append(time)\n            #print(time)\n              \n            # Booster version\n            # TODO: Append the bv into launch_dict with key `Version Booster`\n            bv=booster_version(row[1])\n            if not(bv):\n                bv=row[1].a.string\n            print(bv)\n            launch_dict['Version Booster'].append(bv)\n            \n            # Launch Site\n            # TODO: Append the bv into launch_dict with key `Launch Site`\n            launch_site = row[2].a.string\n            launch_dict['Launch site'].append(launch_site)\n            #print(launch_site)\n            \n            # Payload\n            # TODO: Append the payload into launch_dict with key `Payload`\n            payload = row[3].a.string\n            launch_dict['Payload'].append(payload)\n            #print(payload)\n            \n            # Payload Mass\n            # TODO: Append the payload_mass into launch_dict with key `Payload mass`\n            payload_mass = get_mass(row[4])\n            launch_dict['Payload mass'].append(payload_mass)\n            #print(payload)\n            \n            # Orbit\n            # TODO: Append the orbit into launch_dict with key `Orbit`\n            orbit = row[5].a.string\n            launch_dict['Orbit'].append(orbit)\n            #print(orbit)\n            \n            # Customer\n            # TODO: Append the customer into launch_dict with key `Customer`\n            customer = row[6]\n            if not(customer):\n                customer=row[6].a.string\n            print(bv)\n            launch_dict['Customer'].append(customer)\n            #print(customer)\n            \n            # Launch outcome\n            # TODO: Append the launch_outcome into launch_dict with key `Launch outcome`\n            launch_outcome = list(row[7].strings)[0]\n            launch_dict['Launch outcome'].append(launch_outcome)\n            #print(launch_outcome)\n            \n            # Booster landing\n            # TODO: Append the launch_outcome into launch_dict with key `Booster landing`\n            booster_landing = landing_status(row[8])\n            launch_dict['Booster landing'].append(booster_landing)\n            #print(booster_landing)\n            "
        },
        {
            "cell_type": "markdown",
            "metadata": {},
            "source": "After you have fill in the parsed launch record values into `launch_dict`, you can create a dataframe from it.\n"
        },
        {
            "cell_type": "code",
            "execution_count": 78,
            "metadata": {},
            "outputs": [
                {
                    "data": {
                        "text/html": "<div>\n<style scoped>\n    .dataframe tbody tr th:only-of-type {\n        vertical-align: middle;\n    }\n\n    .dataframe tbody tr th {\n        vertical-align: top;\n    }\n\n    .dataframe thead th {\n        text-align: right;\n    }\n</style>\n<table border=\"1\" class=\"dataframe\">\n  <thead>\n    <tr style=\"text-align: right;\">\n      <th></th>\n      <th>Flight No.</th>\n      <th>Launch site</th>\n      <th>Payload</th>\n      <th>Payload mass</th>\n      <th>Orbit</th>\n      <th>Customer</th>\n      <th>Launch outcome</th>\n      <th>Version Booster</th>\n      <th>Booster landing</th>\n      <th>Date</th>\n      <th>Time</th>\n    </tr>\n  </thead>\n  <tbody>\n    <tr>\n      <th>0</th>\n      <td>1</td>\n      <td>CCAFS</td>\n      <td>Dragon Spacecraft Qualification Unit</td>\n      <td>0</td>\n      <td>LEO</td>\n      <td>[[SpaceX], \\n]</td>\n      <td>Success\\n</td>\n      <td>F9 v1.0B0003.1</td>\n      <td>Failure</td>\n      <td>4 June 2010</td>\n      <td>18:45</td>\n    </tr>\n    <tr>\n      <th>1</th>\n      <td>2</td>\n      <td>CCAFS</td>\n      <td>Dragon</td>\n      <td>0</td>\n      <td>LEO</td>\n      <td>[[\\n, [&lt;li&gt;&lt;a href=\"/wiki/NASA\" title=\"NASA\"&gt;N...</td>\n      <td>Success</td>\n      <td>F9 v1.0B0004.1</td>\n      <td>Failure</td>\n      <td>8 December 2010</td>\n      <td>15:43</td>\n    </tr>\n    <tr>\n      <th>2</th>\n      <td>3</td>\n      <td>CCAFS</td>\n      <td>Dragon</td>\n      <td>525 kg</td>\n      <td>LEO</td>\n      <td>[[NASA],  (, [COTS], )\\n]</td>\n      <td>Success</td>\n      <td>F9 v1.0B0005.1</td>\n      <td>No attempt\\n</td>\n      <td>22 May 2012</td>\n      <td>07:44</td>\n    </tr>\n    <tr>\n      <th>3</th>\n      <td>4</td>\n      <td>CCAFS</td>\n      <td>SpaceX CRS-1</td>\n      <td>4,700 kg</td>\n      <td>LEO</td>\n      <td>[[NASA],  (, [CRS], )\\n]</td>\n      <td>Success\\n</td>\n      <td>F9 v1.0B0006.1</td>\n      <td>No attempt</td>\n      <td>8 October 2012</td>\n      <td>00:35</td>\n    </tr>\n    <tr>\n      <th>4</th>\n      <td>5</td>\n      <td>CCAFS</td>\n      <td>SpaceX CRS-2</td>\n      <td>4,877 kg</td>\n      <td>LEO</td>\n      <td>[[NASA],  (, [CRS], )\\n]</td>\n      <td>Success\\n</td>\n      <td>F9 v1.0B0007.1</td>\n      <td>No attempt\\n</td>\n      <td>1 March 2013</td>\n      <td>15:10</td>\n    </tr>\n    <tr>\n      <th>...</th>\n      <td>...</td>\n      <td>...</td>\n      <td>...</td>\n      <td>...</td>\n      <td>...</td>\n      <td>...</td>\n      <td>...</td>\n      <td>...</td>\n      <td>...</td>\n      <td>...</td>\n      <td>...</td>\n    </tr>\n    <tr>\n      <th>237</th>\n      <td>117</td>\n      <td>CCSFS</td>\n      <td>Starlink</td>\n      <td>15,600 kg</td>\n      <td>LEO</td>\n      <td>SpaceX</td>\n      <td>Success\\n</td>\n      <td>F9 B5B1051.10</td>\n      <td>Success</td>\n      <td>9 May 2021</td>\n      <td>06:42</td>\n    </tr>\n    <tr>\n      <th>238</th>\n      <td>118</td>\n      <td>KSC</td>\n      <td>Starlink</td>\n      <td>~14,000 kg</td>\n      <td>LEO</td>\n      <td>SpaceX</td>\n      <td>Success\\n</td>\n      <td>F9 B5B1058.8</td>\n      <td>Success</td>\n      <td>15 May 2021</td>\n      <td>22:56</td>\n    </tr>\n    <tr>\n      <th>239</th>\n      <td>119</td>\n      <td>CCSFS</td>\n      <td>Starlink</td>\n      <td>15,600 kg</td>\n      <td>LEO</td>\n      <td>SpaceX</td>\n      <td>Success\\n</td>\n      <td>F9 B5B1063.2</td>\n      <td>Success</td>\n      <td>26 May 2021</td>\n      <td>18:59</td>\n    </tr>\n    <tr>\n      <th>240</th>\n      <td>120</td>\n      <td>KSC</td>\n      <td>SpaceX CRS-22</td>\n      <td>3,328 kg</td>\n      <td>LEO</td>\n      <td>NASA</td>\n      <td>Success\\n</td>\n      <td>F9 B5B1067.1</td>\n      <td>Success</td>\n      <td>3 June 2021</td>\n      <td>17:29</td>\n    </tr>\n    <tr>\n      <th>241</th>\n      <td>121</td>\n      <td>CCSFS</td>\n      <td>SXM-8</td>\n      <td>7,000 kg</td>\n      <td>GTO</td>\n      <td>Sirius XM</td>\n      <td>Success\\n</td>\n      <td>F9 B5</td>\n      <td>Success</td>\n      <td>6 June 2021</td>\n      <td>04:26</td>\n    </tr>\n  </tbody>\n</table>\n<p>242 rows \u00d7 11 columns</p>\n</div>",
                        "text/plain": "    Flight No. Launch site                               Payload Payload mass  \\\n0            1       CCAFS  Dragon Spacecraft Qualification Unit            0   \n1            2       CCAFS                                Dragon            0   \n2            3       CCAFS                                Dragon       525 kg   \n3            4       CCAFS                          SpaceX CRS-1     4,700 kg   \n4            5       CCAFS                          SpaceX CRS-2     4,877 kg   \n..         ...         ...                                   ...          ...   \n237        117       CCSFS                              Starlink    15,600 kg   \n238        118         KSC                              Starlink   ~14,000 kg   \n239        119       CCSFS                              Starlink    15,600 kg   \n240        120         KSC                         SpaceX CRS-22     3,328 kg   \n241        121       CCSFS                                 SXM-8     7,000 kg   \n\n    Orbit                                           Customer Launch outcome  \\\n0     LEO                                     [[SpaceX], \\n]      Success\\n   \n1     LEO  [[\\n, [<li><a href=\"/wiki/NASA\" title=\"NASA\">N...        Success   \n2     LEO                          [[NASA],  (, [COTS], )\\n]        Success   \n3     LEO                           [[NASA],  (, [CRS], )\\n]      Success\\n   \n4     LEO                           [[NASA],  (, [CRS], )\\n]      Success\\n   \n..    ...                                                ...            ...   \n237   LEO                                             SpaceX      Success\\n   \n238   LEO                                             SpaceX      Success\\n   \n239   LEO                                             SpaceX      Success\\n   \n240   LEO                                               NASA      Success\\n   \n241   GTO                                          Sirius XM      Success\\n   \n\n    Version Booster Booster landing             Date   Time  \n0    F9 v1.0B0003.1         Failure      4 June 2010  18:45  \n1    F9 v1.0B0004.1         Failure  8 December 2010  15:43  \n2    F9 v1.0B0005.1    No attempt\\n      22 May 2012  07:44  \n3    F9 v1.0B0006.1      No attempt   8 October 2012  00:35  \n4    F9 v1.0B0007.1    No attempt\\n     1 March 2013  15:10  \n..              ...             ...              ...    ...  \n237   F9 B5B1051.10         Success       9 May 2021  06:42  \n238    F9 B5B1058.8         Success      15 May 2021  22:56  \n239    F9 B5B1063.2         Success      26 May 2021  18:59  \n240    F9 B5B1067.1         Success      3 June 2021  17:29  \n241           F9 B5         Success      6 June 2021  04:26  \n\n[242 rows x 11 columns]"
                    },
                    "execution_count": 78,
                    "metadata": {},
                    "output_type": "execute_result"
                }
            ],
            "source": "df=pd.DataFrame(launch_dict)\ndf"
        },
        {
            "cell_type": "markdown",
            "metadata": {},
            "source": "We can now export it to a <b>CSV</b> for the next section, but to make the answers consistent and in case you have difficulties finishing this lab.\n\nFollowing labs will be using a provided dataset to make each lab independent.\n"
        },
        {
            "cell_type": "markdown",
            "metadata": {},
            "source": "<code>df.to_csv('spacex_web_scraped.csv', index=False)</code>\n"
        },
        {
            "cell_type": "markdown",
            "metadata": {},
            "source": "## Authors\n"
        },
        {
            "cell_type": "markdown",
            "metadata": {},
            "source": "<a href=\"https://www.linkedin.com/in/yan-luo-96288783/?utm_medium=Exinfluencer&utm_source=Exinfluencer&utm_content=000026UJ&utm_term=10006555&utm_id=NA-SkillsNetwork-Channel-SkillsNetworkCoursesIBMDS0321ENSkillsNetwork26802033-2021-01-01\">Yan Luo</a>\n"
        },
        {
            "cell_type": "markdown",
            "metadata": {},
            "source": "<a href=\"https://www.linkedin.com/in/nayefaboutayoun/?utm_medium=Exinfluencer&utm_source=Exinfluencer&utm_content=000026UJ&utm_term=10006555&utm_id=NA-SkillsNetwork-Channel-SkillsNetworkCoursesIBMDS0321ENSkillsNetwork26802033-2021-01-01\">Nayef Abou Tayoun</a>\n"
        },
        {
            "cell_type": "markdown",
            "metadata": {},
            "source": "## Change Log\n"
        },
        {
            "cell_type": "markdown",
            "metadata": {},
            "source": "| Date (YYYY-MM-DD) | Version | Changed By | Change Description          |\n| ----------------- | ------- | ---------- | --------------------------- |\n| 2021-06-09        | 1.0     | Yan Luo    | Tasks updates               |\n| 2020-11-10        | 1.0     | Nayef      | Created the initial version |\n"
        },
        {
            "cell_type": "markdown",
            "metadata": {},
            "source": "Copyright \u00a9 2021 IBM Corporation. All rights reserved.\n"
        }
    ],
    "metadata": {
        "kernelspec": {
            "display_name": "Python 3.8",
            "language": "python",
            "name": "python3"
        },
        "language_info": {
            "codemirror_mode": {
                "name": "ipython",
                "version": 3
            },
            "file_extension": ".py",
            "mimetype": "text/x-python",
            "name": "python",
            "nbconvert_exporter": "python",
            "pygments_lexer": "ipython3",
            "version": "3.8.10"
        }
    },
    "nbformat": 4,
    "nbformat_minor": 4
}